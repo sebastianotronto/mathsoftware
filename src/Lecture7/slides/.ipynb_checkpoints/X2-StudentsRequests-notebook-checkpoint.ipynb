{
 "cells": [
  {
   "cell_type": "markdown",
   "metadata": {},
   "source": [
    "# Diffie-Hellman key exchange\n",
    "\n",
    "The following is a simple implementation of the classic [Diffie-Hellman key exchange](https://en.wikipedia.org/wiki/Diffie%E2%80%93Hellman_key_exchange) cryptographic protocol."
   ]
  },
  {
   "cell_type": "code",
   "execution_count": 1,
   "metadata": {},
   "outputs": [
    {
     "name": "stdout",
     "output_type": "stream",
     "text": [
      "Public key: p = 75521 and g = 58258 \n",
      "\n",
      "[[ Alice's secret key: a = 22794 ]]\n",
      "[[ Bob's secret key: b = 69773 ]] \n",
      "\n",
      "Alice sends h1 = 31067 to Bob\n",
      "Bob sends h2 = 54398 to Alice \n",
      "\n",
      "Alice computed 30031 using h2 and her secret a\n",
      "Bob computed 30031 using h1 and his secret b\n"
     ]
    }
   ],
   "source": [
    "# Public information:\n",
    "p = Primes()[10^3 + randint(1,10000)] # random prime\n",
    "g = randint(2, p-1) # random integer\n",
    "\n",
    "print(\"Public key: p =\", p, \"and g =\", g, \"\\n\")\n",
    "\n",
    "a = randint(2, p-1) # Only Alice knows this\n",
    "b = randint(2, p-1) # Only Bob knows this\n",
    "\n",
    "print(\"[[ Alice's secret key: a =\", a, \"]]\")\n",
    "print(\"[[ Bob's secret key: b =\", b, \"]]\", \"\\n\")\n",
    "\n",
    "h1 = (g^a) % p # Alice sends this to Bob\n",
    "h2 = (g^b) % p # Bob sends this to Alice\n",
    "\n",
    "print(\"Alice sends h1 =\", h1, \"to Bob\")\n",
    "print(\"Bob sends h2 =\", h2, \"to Alice\", \"\\n\")\n",
    "\n",
    "secret_a = (h2^a) % p # Alice can compute this because she knows a\n",
    "secret_b = (h1^b) % p # Bob can compute this because he knows b\n",
    "\n",
    "print(\"Alice computed\", secret_a, \"using h2 and her secret a\")\n",
    "print(\"Bob computed\", secret_b, \"using h1 and his secret b\")"
   ]
  },
  {
   "cell_type": "markdown",
   "metadata": {},
   "source": [
    "## General Diffie-Hellman\n",
    "\n",
    "The following code is an implementation of a generic Diffie-Hellman key exchange protocol that uses a group $G$ instead of $(\\mathbb Z/p \\mathbb Z)^\\times$."
   ]
  },
  {
   "cell_type": "code",
   "execution_count": 2,
   "metadata": {},
   "outputs": [
    {
     "name": "stdout",
     "output_type": "stream",
     "text": [
      "Public key:\n",
      "G = Additive abelian group isomorphic to Z/171 embedded in Abelian group of points on Elliptic Curve defined by y^2 = x^3 + x + 156 over Finite Field of size 157 \n",
      "g = (53 : 90 : 1) \n",
      "\n",
      "[[ Alice's secret key: a = 145 ]]\n",
      "[[ Bob's secret key: b = 65 ]] \n",
      "\n",
      "Alice sends h1 = (150 : 80 : 1) to Bob\n",
      "Bob sends h2 = (4 : 58 : 1) to Alice \n",
      "\n",
      "Alice computed (28 : 28 : 1) using h2 and her secret a\n",
      "Bob computed (28 : 28 : 1) using h1 and his secret b\n"
     ]
    }
   ],
   "source": [
    "def genericDH(G):\n",
    "    if G.cardinality() == 1:\n",
    "        print(\"Group is trivial, can't do anything\")\n",
    "        return\n",
    "    g = G.random_element()\n",
    "    while g == G.identity(): # Make sure g is not trivial\n",
    "        g = G.random_element()\n",
    "        \n",
    "    print(\"Public key:\\nG =\", G, \"\\ng =\", g, \"\\n\")\n",
    "    \n",
    "    a = randint(2, G.exponent()-1) # Only Alice knows this\n",
    "    b = randint(2, G.exponent()-1) # Only Bob knows this\n",
    "\n",
    "    print(\"[[ Alice's secret key: a =\", a, \"]]\")\n",
    "    print(\"[[ Bob's secret key: b =\", b, \"]]\", \"\\n\")\n",
    "    \n",
    "    # \"Ternary operator\", I did not explain this\n",
    "    # https://docs.python.org/3/reference/expressions.html#conditional-expressions\n",
    "    h1 = g^a if G.is_multiplicative() else a*g # Alice sends this to Bob\n",
    "    h2 = g^b if G.is_multiplicative() else b*g # Bob sends this to Alice\n",
    "\n",
    "    print(\"Alice sends h1 =\", h1, \"to Bob\")\n",
    "    print(\"Bob sends h2 =\", h2, \"to Alice\", \"\\n\")\n",
    "    \n",
    "    secret_a = h2^a if G.is_multiplicative() else a*h2 # Alice can compute this because she knows a\n",
    "    secret_b = h1^b if G.is_multiplicative() else b*h1 # Bob can compute this because he knows b\n",
    "\n",
    "    print(\"Alice computed\", secret_a, \"using h2 and her secret a\")\n",
    "    print(\"Bob computed\", secret_b, \"using h1 and his secret b\")\n",
    "    \n",
    "E = EllipticCurve(GF(157), [1,-1])\n",
    "G = E.abelian_group()\n",
    "genericDH(G)"
   ]
  },
  {
   "cell_type": "markdown",
   "metadata": {},
   "source": [
    "# Numerical methods for differential equations\n",
    "\n",
    "## Euler's method (ODE)\n",
    "\n",
    "In sage you can use [`ode_solver()`](https://doc.sagemath.org/html/en/reference/calculus/sage/calculus/ode.html) to solve any ordinary differential equation by hand, but Euler's method is very simple to implement by hand:"
   ]
  },
  {
   "cell_type": "code",
   "execution_count": 4,
   "metadata": {},
   "outputs": [
    {
     "data": {
      "image/png": "[encoded data removed]",
      "text/plain": [
       "Graphics object consisting of 2 graphics primitives"
      ]
     },
     "execution_count": 4,
     "metadata": {},
     "output_type": "execute_result"
    }
   ],
   "source": [
    "var('y')\n",
    "\n",
    "def euler_desolve(f, x0, y0, x1):\n",
    "    n = 5\n",
    "    h = (x1-x0)/n\n",
    "    S = []\n",
    "    Y = [y0]\n",
    "    for i in range(n+1):\n",
    "        S.append(x0 + i*h)\n",
    "        Y.append(N(  Y[i] + h*f(S[i], Y[i])  ))\n",
    "    return S, Y\n",
    "\n",
    "f(x,y) = y\n",
    "x0 = -1\n",
    "x1 = 2\n",
    "y0 = e^(-1)\n",
    "\n",
    "S, Y = euler_desolve(f, x0, y0, x1)\n",
    "plot(e^x, -1, 2) + line([(S[i], Y[i]) for i in range(len(S))], color='red', marker='o', markersize=2)"
   ]
  },
  {
   "cell_type": "markdown",
   "metadata": {},
   "source": [
    "Sage also has an `eulers_method()` function \"for pedagogical purposes only\":"
   ]
  },
  {
   "cell_type": "code",
   "execution_count": 5,
   "metadata": {},
   "outputs": [
    {
     "name": "stdout",
     "output_type": "stream",
     "text": [
      "         x                    y                  h*f(x,y)\n",
      "        -1    0.367879441171442   0.0367879441171442\n",
      "-0.900000000000000    0.404667385288587   0.0404667385288587\n",
      "-0.800000000000000    0.445134123817445   0.0445134123817445\n",
      "-0.700000000000000    0.489647536199190   0.0489647536199190\n",
      "-0.600000000000000    0.538612289819109   0.0538612289819109\n",
      "-0.500000000000000    0.592473518801020   0.0592473518801020\n",
      "-0.400000000000000    0.651720870681122   0.0651720870681122\n",
      "-0.300000000000000    0.716892957749234   0.0716892957749234\n",
      "-0.200000000000000    0.788582253524157   0.0788582253524157\n",
      "-0.100000000000000    0.867440478876573   0.0867440478876573\n",
      "-1.38777878078145e-16    0.954184526764230   0.0954184526764230\n",
      "0.0999999999999999     1.04960297944065    0.104960297944065\n",
      "0.200000000000000     1.15456327738472    0.115456327738472\n",
      "0.300000000000000     1.27001960512319    0.127001960512319\n",
      "0.400000000000000     1.39702156563551    0.139702156563551\n",
      "0.500000000000000     1.53672372219906    0.153672372219906\n",
      "0.600000000000000     1.69039609441897    0.169039609441897\n",
      "0.700000000000000     1.85943570386086    0.185943570386086\n",
      "0.800000000000000     2.04537927424695    0.204537927424695\n",
      "0.900000000000000     2.24991720167165    0.224991720167165\n",
      "1.00000000000000     2.47490892183881    0.247490892183881\n",
      "1.10000000000000     2.72239981402269    0.272239981402269\n",
      "1.20000000000000     2.99463979542496    0.299463979542496\n",
      "1.30000000000000     3.29410377496746    0.329410377496746\n",
      "1.40000000000000     3.62351415246420    0.362351415246420\n",
      "1.50000000000000     3.98586556771062    0.398586556771062\n",
      "1.60000000000000     4.38445212448168    0.438445212448168\n",
      "1.70000000000000     4.82289733692985    0.482289733692985\n",
      "1.80000000000000     5.30518707062284    0.530518707062284\n",
      "1.90000000000000     5.83570577768512    0.583570577768512\n",
      "2.00000000000000     6.41927635545363    0.641927635545363\n"
     ]
    }
   ],
   "source": [
    "# Usage: eulers_method(f, x0, y0, h, x1)\n",
    "eulers_method(f, -1, N(e^(-1)), 0.1, 2)"
   ]
  },
  {
   "cell_type": "markdown",
   "metadata": {},
   "source": [
    "## Solving the heat equation with a finite difference method"
   ]
  },
  {
   "cell_type": "code",
   "execution_count": null,
   "metadata": {},
   "outputs": [],
   "source": [
    "def heat_fdm(u0j, u1j, ui0):\n",
    "    m, n = len(u0j)-1, len(ui0)-1\n",
    "    k, h = 1/m, 1/n\n",
    "    \n",
    "    u = [[0] * (m+1) for i in range(n+1)]\n",
    "    for j in range(m+1):\n",
    "        u[0][j] = u0j[j]\n",
    "    for j in range(m+1):\n",
    "        u[n][j] = u1j[j]\n",
    "    for i in range(n+1):\n",
    "        u[i][0] = ui0[i]\n",
    "        \n",
    "    for j in range(0,m):\n",
    "        for i in range(1,n):\n",
    "            u[i][j+1] = (k/(h*h)) * (u[i+1][j] - 2*u[i][j] + u[i-1][j]) + u[i][j]\n",
    "    \n",
    "    return u\n",
    "\n",
    "n, m = 20, 20\n",
    "u0j = [10 - (j/m)*10 for j in range(m+1)] # One extreme goes from hot to cold\n",
    "u1j = [(j/m)*10 for j in range(m+1)] # The other does the opposite\n",
    "ui0 = [10 - (i/m)*10 for i in range(0,n+1)]\n",
    "\n",
    "u = heat_fdm(u0j, u1j, ui0)\n",
    "for t in range(m+1):\n",
    "    show(line([(i/n, u[i][t]) for i in range(n+1)], ymin=-1, ymax =12))"
   ]
  }
 ],
 "metadata": {
  "kernelspec": {
   "display_name": "SageMath 9.0",
   "language": "sage",
   "name": "sagemath"
  },
  "language_info": {
   "codemirror_mode": {
    "name": "ipython",
    "version": 3
   },
   "file_extension": ".py",
   "mimetype": "text/x-python",
   "name": "python",
   "nbconvert_exporter": "python",
   "pygments_lexer": "ipython3",
   "version": "3.8.5"
  }
 },
 "nbformat": 4,
 "nbformat_minor": 4
}
