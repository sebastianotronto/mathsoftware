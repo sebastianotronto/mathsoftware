{
 "cells": [
  {
   "cell_type": "markdown",
   "metadata": {},
   "source": [
    "# Symbolic expressions\n",
    "\n",
    "**Reference:** [[1](https://doc.sagemath.org/html/en/reference/calculus/sage/symbolic/expression.html)]\n",
    "\n",
    "Last time we saw the basics of symbolic expressions:\n",
    "* How to define and manipulate symbolic expressions\n",
    "* How to introduce new variables (in the Mathematical sense) with `var()`\n",
    "* How to solve equations and inequalities\n",
    "* Some of the Mathematical constants that are included in Sage, and how to approximate them using `n()`\n",
    "\n",
    "Here are some examples to remind you of these basic things:"
   ]
  },
  {
   "cell_type": "code",
   "execution_count": 2,
   "metadata": {},
   "outputs": [
    {
     "name": "stdout",
     "output_type": "stream",
     "text": [
      "[\n",
      "x == -sqrt(-pi),\n",
      "x == sqrt(-pi)\n",
      "]\n",
      "[\n",
      "z == -sqrt(pi + x^2),\n",
      "z == sqrt(pi + x^2)\n",
      "]\n",
      "[[y < -2], [y > 1]]\n",
      "2*pi + e is approximately 9.00146713563863\n"
     ]
    }
   ],
   "source": [
    "var('y', 'z') # Define new variables (x is already defined by Sage)\n",
    "f = x^2 + pi\n",
    "g = y^2 + y - 2 > 0\n",
    "print( solve(f==0, x) )\n",
    "print( solve(z^2 - f, z) )\n",
    "print( solve(g, y) )\n",
    "print( 2*pi + e, \"is approximately\", n(2*pi + e) )"
   ]
  },
  {
   "cell_type": "markdown",
   "metadata": {},
   "source": [
    "Now we will see some more details about solving equations and manipulating their solutions."
   ]
  },
  {
   "cell_type": "markdown",
   "metadata": {},
   "source": [
    "## Solving equations and inequalities\n",
    "\n",
    "**Reference** [[1](https://doc.sagemath.org/html/en/reference/calculus/sage/symbolic/expression.html)] for the details of `solve()` and `find_root()`, [[2](https://doc.sagemath.org/html/en/reference/calculus/sage/symbolic/relation.html#solving)] for examples.\n",
    "\n",
    "Other than equations and inequalities, we can also solve systems: it is enough to give Sage a list of expressions and a list of variables with respect to which we want to solve. For example the system\n",
    "\n",
    "\\begin{align*}\n",
    "    \\begin{cases}\n",
    "        x + y = 2 \\\\\n",
    "        2x - y = 6\n",
    "    \\end{cases}\n",
    "\\end{align*}\n",
    "\n",
    "Can be solved as"
   ]
  },
  {
   "cell_type": "code",
   "execution_count": 40,
   "metadata": {},
   "outputs": [
    {
     "data": {
      "text/plain": [
       "[[x == (8/3), y == (-2/3)]]"
      ]
     },
     "execution_count": 40,
     "metadata": {},
     "output_type": "execute_result"
    }
   ],
   "source": [
    "solve([x+y == 2, 2*x - y == 6], [x,y])"
   ]
  },
  {
   "cell_type": "markdown",
   "metadata": {},
   "source": [
    "**Exercise.** Find the intersection of the circle of radius $2$ centered in the origin and the parabula of equation $y=x^2-2x^2+1$."
   ]
  },
  {
   "cell_type": "markdown",
   "metadata": {},
   "source": [
    "### The set of solutions\n",
    "\n",
    "One would expect the result of `solve()` to be a list of solutions, but it is actually a list of expressions (technically it is not a list but a different type of Python collection, but this is not so important)"
   ]
  },
  {
   "cell_type": "code",
   "execution_count": 37,
   "metadata": {},
   "outputs": [
    {
     "data": {
      "text/plain": [
       "x == -3"
      ]
     },
     "execution_count": 37,
     "metadata": {},
     "output_type": "execute_result"
    }
   ],
   "source": [
    "solutions = solve(x^2-9 == 0, x)\n",
    "solutions[0] # This is the expression 'x == -3'"
   ]
  },
  {
   "cell_type": "markdown",
   "metadata": {},
   "source": [
    "To read the actual solution without the `x ==` part you can use the `rhs()` or `lhs()` functions, which can be applied to any expression containing a relation operator (like `==`, `<`, `>=`...) and return the *right hand side* and *left hand side* of the expression, respectively"
   ]
  },
  {
   "cell_type": "code",
   "execution_count": 41,
   "metadata": {},
   "outputs": [
    {
     "name": "stdout",
     "output_type": "stream",
     "text": [
      "rhs: 2\n",
      "lhs: x\n"
     ]
    }
   ],
   "source": [
    "f =  x == 2\n",
    "print(\"rhs:\", f.rhs())\n",
    "print(\"lhs:\", f.lhs())"
   ]
  },
  {
   "cell_type": "markdown",
   "metadata": {},
   "source": [
    "When you solve an inequality or a system, the set of solutions can be more complicated to describe. In this case the result is a list containing lists of expressions that have to be `True` at the same time. It is easier to explain with an example:"
   ]
  },
  {
   "cell_type": "code",
   "execution_count": 38,
   "metadata": {},
   "outputs": [
    {
     "name": "stdout",
     "output_type": "stream",
     "text": [
      "Simple inequality: [[x < -3], [x > 3]]\n",
      "System of inequalities:\n",
      " [\n",
      "[3 < x, x < 6],\n",
      "[x < -3]\n",
      "]\n"
     ]
    }
   ],
   "source": [
    "print(\"Simple inequality:\", solve(x^2-9 > 0, x))\n",
    "print(\"System of inequalities:\\n\", solve([x^2-9 > 0, x < 6], x))"
   ]
  },
  {
   "cell_type": "markdown",
   "metadata": {},
   "source": [
    "In the last example (system of inequalities), Sage is telling us that the system\n",
    "\\begin{align*}\n",
    "    \\begin{cases}\n",
    "        x^2-9 > 9 \\\\\n",
    "        x < 6\n",
    "    \\end{cases}\n",
    "\\end{align*}\n",
    "has two solutions:\n",
    "* $x$ is between $3$ and $6$;\n",
    "* $x$ is less than $-3$.\n",
    "\n",
    "Since in Sage (and in Python) expressions can have at most on relational operator like `<`, the first solution requires two expressions to be described. Hence the \"list of lists\".\n"
   ]
  },
  {
   "cell_type": "markdown",
   "metadata": {},
   "source": [
    "**Exercise.** In the first exercise you were asked to solve a system of equations, but some of its solutions were complex numbers. Select only the real solutions and print them as pairs $(x,y)$."
   ]
  },
  {
   "cell_type": "markdown",
   "metadata": {},
   "source": [
    "When solving a system of equations (not inequalities), you can use the option `solution_dict=True` to have the solutions arranged as a *dictionary*, which is a type of Python collection that we did not treat in this course"
   ]
  },
  {
   "cell_type": "code",
   "execution_count": 44,
   "metadata": {},
   "outputs": [
    {
     "data": {
      "text/plain": [
       "[{x: 8/3, y: -2/3}]"
      ]
     },
     "execution_count": 44,
     "metadata": {},
     "output_type": "execute_result"
    }
   ],
   "source": [
    "solve([x+y == 2, 2*x - y == 6], [x,y], solution_dict=True)"
   ]
  },
  {
   "cell_type": "markdown",
   "metadata": {},
   "source": [
    "### Alternative method for real roots: `find_root()`\n",
    "\n",
    "The `solve()` method is very useful when solving *symbolic* equations, for example when you have two variables and you want to solve for one of them in terms of the other. However, it does not always find explicit solutions.\n",
    "\n",
    "When you want to find an explicit, even if approximate, solution, it can be better to use `find_root()`. This function works *numerically*, which means that it finds an approximation of the root. It only works for real solutions and you need to specify an interval where you want the root to be searched:"
   ]
  },
  {
   "cell_type": "code",
   "execution_count": 52,
   "metadata": {},
   "outputs": [
    {
     "name": "stdout",
     "output_type": "stream",
     "text": [
      "Using solve():\n",
      " [\n",
      "x == -e^x + 10\n",
      "]\n",
      "Using find_root(): 2.070579904980303\n"
     ]
    }
   ],
   "source": [
    "f = e^x + x - 10\n",
    "print(\"Using solve():\\n\", solve(f, x))\n",
    "print(\"Using find_root():\", f.find_root(0,100))"
   ]
  },
  {
   "cell_type": "markdown",
   "metadata": {},
   "source": [
    "## Evaluating functions\n",
    "\n",
    "If an expression contains only one variable you can evaluate it easily, even if it is not a function."
   ]
  },
  {
   "cell_type": "code",
   "execution_count": 21,
   "metadata": {},
   "outputs": [
    {
     "name": "stdout",
     "output_type": "stream",
     "text": [
      "1\n",
      "y + 3 > (y + 3)^2\n"
     ]
    }
   ],
   "source": [
    "var('y')\n",
    "f = x^2-3\n",
    "g = x > x^2\n",
    "\n",
    "print(f(2))\n",
    "print(g(3+y))"
   ]
  },
  {
   "cell_type": "markdown",
   "metadata": {},
   "source": [
    "If an expression contains more than one variable, you can specify a value for each of them and they will be substituted in alphabetic order. You can also specify a value only for some of the variables."
   ]
  },
  {
   "cell_type": "code",
   "execution_count": 38,
   "metadata": {},
   "outputs": [
    {
     "name": "stdout",
     "output_type": "stream",
     "text": [
      "-2 == 0\n",
      "3*y == 2\n"
     ]
    }
   ],
   "source": [
    "var('y','z')\n",
    "\n",
    "f = y*z^2 - y == z\n",
    "print(f(2, 0))\n",
    "print(f(z=2))"
   ]
  },
  {
   "cell_type": "markdown",
   "metadata": {},
   "source": [
    "## Symbolic computations\n",
    "\n",
    "Sage can understand and simplify symbolic expressions such as sums (finite or infinite) and products. In the following cell, we compute the following sums using the [`sum()`](https://doc.sagemath.org/html/en/reference/calculus/sage/symbolic/expression.html#sage.symbolic.expression.Expression.sum) function:\n",
    "\n",
    "\\begin{align*}\n",
    "    \\begin{array}{llcc}\n",
    "        (1) & \\sum_{k=0}^nk                 &=&\\frac{n^2+n}{2}\\\\\n",
    "        (2) & \\sum_{k=0}^nk^4               &=&\\frac{6n^5+15n^4+10n^3-n}{30}\\\\\n",
    "        (3) & \\sum_{k=0}^n\\binom nk         &=& 2^n\\\\\n",
    "        (4) & \\sum_{k=0}^\\infty \\frac1{k^2} &=& \\frac{\\pi^2}{6}\n",
    "    \\end{array}\n",
    "\\end{align*}"
   ]
  },
  {
   "cell_type": "code",
   "execution_count": 22,
   "metadata": {},
   "outputs": [
    {
     "name": "stdout",
     "output_type": "stream",
     "text": [
      "(1) 1/2*n^2 + 1/2*n\n",
      "(2) 1/5*n^5 + 1/2*n^4 + 1/3*n^3 - 1/30*n\n",
      "(3) 2^n\n",
      "(4) 1/6*pi^2\n"
     ]
    }
   ],
   "source": [
    "var('k', 'n') # Remember to declare all variables\n",
    "\n",
    "s = []\n",
    "s.append(  sum(k, k, 0, n)  )\n",
    "s.append(  sum(k^4, k, 0, n)  )\n",
    "s.append(  sum(binomial(n,k), k, 0, n) )\n",
    "s.append(  sum(1/k^2, k, 1, infinity)  )\n",
    "\n",
    "for i in range(len(s)):\n",
    "    print(\"({}) {}\".format(i+1, s[i]))"
   ]
  },
  {
   "cell_type": "markdown",
   "metadata": {},
   "source": [
    "An alternative notation is `expression.sum(k, a, b)`. There is an analogous [`prod()`](https://doc.sagemath.org/html/en/reference/calculus/sage/symbolic/expression.html#sage.symbolic.expression.Expression.prod) for products."
   ]
  },
  {
   "cell_type": "markdown",
   "metadata": {},
   "source": [
    "Sometimes Sage tries to keep an expression in its original form without expanding out sums and products. To change this behavior you can use the [`expand()`](https://doc.sagemath.org/html/en/reference/calculus/sage/symbolic/expression.html#sage.symbolic.expression.Expression.expand) function:"
   ]
  },
  {
   "cell_type": "code",
   "execution_count": 30,
   "metadata": {},
   "outputs": [
    {
     "name": "stdout",
     "output_type": "stream",
     "text": [
      "(x + 1)^2 - (x - 1)^2\n",
      "4*x\n"
     ]
    }
   ],
   "source": [
    "f = (x+1)^2 - (x-1)^2\n",
    "print(f)\n",
    "print(f.expand())"
   ]
  },
  {
   "cell_type": "markdown",
   "metadata": {},
   "source": [
    "### The Symbolic Ring\n",
    "**Reference:** [[3](https://doc.sagemath.org/html/en/reference/calculus/sage/symbolic/ring.html)]\n",
    "\n",
    "The symbolic expressions that we have seen so far live in a ring called *symbolic ring* and denoted by `SR` in Sage. This ring works like the ring `ZZ` of integers or `RR` of reals numbers. In particular, you can define matrices and other objects using it as a \"basis\"."
   ]
  },
  {
   "cell_type": "code",
   "execution_count": 45,
   "metadata": {},
   "outputs": [
    {
     "name": "stdout",
     "output_type": "stream",
     "text": [
      "-b*c + a*d\n",
      "[(-a, 2)]\n"
     ]
    }
   ],
   "source": [
    "var('a', 'b', 'c', 'd')\n",
    "\n",
    "M = matrix([[a,b], [c,d]])\n",
    "print(M.determinant())\n",
    "\n",
    "polring.<x> = SR[]\n",
    "f = x^2 + 2*a*x + a^2\n",
    "print(f.roots())"
   ]
  },
  {
   "cell_type": "markdown",
   "metadata": {},
   "source": [
    "**Exercise.** Compute the eigenvalues of the matrix\n",
    "\\begin{align*}\n",
    "\\begin{pmatrix}\n",
    "\\cos \\alpha & \\sin \\alpha\\\\\n",
    "-\\sin\\alpha & \\cos \\alpha\n",
    "\\end{pmatrix}\n",
    "\\end{align*}"
   ]
  },
  {
   "cell_type": "markdown",
   "metadata": {},
   "source": [
    "# Calculus\n",
    "**Reference:** [[4](https://doc.sagemath.org/html/en/reference/calculus/index.html)] for an overview, but most functions are described in [[1](https://doc.sagemath.org/html/en/reference/calculus/sage/symbolic/expression.html)]"
   ]
  },
  {
   "cell_type": "markdown",
   "metadata": {},
   "source": [
    "## Limits and series\n",
    "\n",
    "**References:** [[5](https://doc.sagemath.org/html/en/reference/calculus/sage/calculus/calculus.html#sage.calculus.calculus.limit)] for limits, [[6](https://doc.sagemath.org/html/en/reference/calculus/sage/symbolic/expression.html#sage.symbolic.expression.Expression.series)] for series\n",
    "\n",
    "You can compute limits"
   ]
  },
  {
   "cell_type": "code",
   "execution_count": 54,
   "metadata": {},
   "outputs": [
    {
     "name": "stdout",
     "output_type": "stream",
     "text": [
      "1\n",
      "0\n"
     ]
    }
   ],
   "source": [
    "f = sin(x)/x\n",
    "# print(f(0)) # This one gives an error\n",
    "print( f.limit(x=0) )\n",
    "\n",
    "print( (e^(-x)).limit(x=infinity) )"
   ]
  },
  {
   "cell_type": "markdown",
   "metadata": {},
   "source": [
    "**Exercise.** Compute the constant $e$ using a limit."
   ]
  },
  {
   "cell_type": "markdown",
   "metadata": {},
   "source": [
    "You can also specify a direction for the limit. If you don't, Sage assumes that you want to take a two-sided limit."
   ]
  },
  {
   "cell_type": "code",
   "execution_count": 55,
   "metadata": {},
   "outputs": [
    {
     "name": "stdout",
     "output_type": "stream",
     "text": [
      "und\n",
      "1\n",
      "-1\n"
     ]
    }
   ],
   "source": [
    "f = abs(x)/x  # 1 if x>0, -1 if x<0\n",
    "print( f.limit(x=0) ) # undefined\n",
    "print( f.limit(x=0, dir=\"+\") )\n",
    "print( f.limit(x=0, dir=\"-\") )"
   ]
  },
  {
   "cell_type": "markdown",
   "metadata": {},
   "source": [
    "There is also the alternative notation `limit(f, x, dir)` which does the same as `f.limit(x, dir)`."
   ]
  },
  {
   "cell_type": "markdown",
   "metadata": {},
   "source": [
    "You can also compute series expansions up to any order. **Watch out:** the notation uses `==` instead of `=` as `limit()` does."
   ]
  },
  {
   "cell_type": "code",
   "execution_count": 56,
   "metadata": {},
   "outputs": [
    {
     "name": "stdout",
     "output_type": "stream",
     "text": [
      "1 + 1*x + 1/2*x^2 + Order(x^3)\n",
      "(-2) + 1*x + 1*x^2 + (-1/6)*x^3 + (-1/12)*x^4 + 1/120*x^5 + 1/360*x^6 + Order(x^7)\n",
      "1*(x - 1) + (-1/2)*(x - 1)^2 + Order((x - 1)^3)\n"
     ]
    }
   ],
   "source": [
    "f = e^x\n",
    "g = sin(x) - 2*cos(x)\n",
    "h = log(x)\n",
    "\n",
    "print(f.series(x==0, 3))\n",
    "print(g.series(x==0, 7))\n",
    "print(h.series(x==1, 3))"
   ]
  },
  {
   "cell_type": "markdown",
   "metadata": {},
   "source": [
    "## Derivatives\n",
    "**References:** [[7](https://doc.sagemath.org/html/en/reference/calculus/sage/symbolic/expression.html#sage.symbolic.expression.Expression.derivative)] and [[8](https://doc.sagemath.org/html/en/reference/calculus/sage/calculus/functional.html#sage.calculus.functional.derivative)] for derivatives, [[9](https://doc.sagemath.org/html/en/reference/calculus/sage/calculus/functions.html#sage.calculus.functions.jacobian)] for the Jacobian matrix and [[10](https://doc.sagemath.org/html/en/reference/calculus/sage/symbolic/expression.html#sage.symbolic.expression.Expression.hessian)] for the Hessian."
   ]
  },
  {
   "cell_type": "markdown",
   "metadata": {},
   "source": [
    "When computing derivatives, you need to specify with respect to which variables you want to derive, except in case there is only one."
   ]
  },
  {
   "cell_type": "code",
   "execution_count": 57,
   "metadata": {},
   "outputs": [
    {
     "name": "stdout",
     "output_type": "stream",
     "text": [
      "8*y^3\n",
      "6*x^2 - 1\n"
     ]
    }
   ],
   "source": [
    "var('y')\n",
    "print( (x^2+2*y^4).derivative(y) ) # Alternative: derivative(f, y)\n",
    "print( (2*x^3-x+2).derivative() )"
   ]
  },
  {
   "cell_type": "markdown",
   "metadata": {},
   "source": [
    "You can also compute higher order derivatives:"
   ]
  },
  {
   "cell_type": "code",
   "execution_count": 58,
   "metadata": {},
   "outputs": [
    {
     "name": "stdout",
     "output_type": "stream",
     "text": [
      "6*x\n",
      "84*x^5*y + 10*y^4 + 24*x^2*y\n",
      "1680*x^3 + 48\n"
     ]
    }
   ],
   "source": [
    "print( (x^3).derivative(x, x) ) # Same as (x^3).derivative(x, 2)\n",
    "\n",
    "f = x^7*y^2 + x^4*y^2 - 2*x^3 + x^2*y^5 + y + 2\n",
    "print( f.derivative(x, x, y) )    # Twice in x, once in y\n",
    "print( f.derivative(x, 4, y, 2) ) # 4 times in x, twice in y"
   ]
  },
  {
   "cell_type": "markdown",
   "metadata": {},
   "source": [
    "Jacobian and Hessian matrices are also easy to compute:"
   ]
  },
  {
   "cell_type": "code",
   "execution_count": 59,
   "metadata": {},
   "outputs": [
    {
     "name": "stdout",
     "output_type": "stream",
     "text": [
      "[-2*x + 2*y        2*x]\n",
      "[         0      3*y^2]\n",
      "[     y + 1      x + 1] \n",
      "\n",
      "[         2   -4*y + 1]\n",
      "[  -4*y + 1 -4*x + 6*y]\n"
     ]
    }
   ],
   "source": [
    "f = (-x^2 + 2*x*y, y^3, x+y+x*y)\n",
    "print( jacobian(f, [x,y]), \"\\n\" )\n",
    "\n",
    "g = x^2 + x*y + y^3 -2*x*y^2 -3\n",
    "print( g.hessian() )"
   ]
  },
  {
   "cell_type": "markdown",
   "metadata": {},
   "source": [
    "*Note:* the notation `f.jacobian([x,y])` is also valid, but only if you specify that `f` is vector by declaring it as `f = vector([...])`."
   ]
  },
  {
   "cell_type": "markdown",
   "metadata": {},
   "source": [
    "## Integrals\n",
    "**References:** [[11](https://doc.sagemath.org/html/en/reference/calculus/sage/symbolic/integration/integral.html)] for symbolic integration and [[12](https://doc.sagemath.org/html/en/reference/calculus/sage/calculus/integration.html)] for numerical methods.\n",
    "\n",
    "You should remember from high school or from your first calculus/analysis course that derivatives are easy, but integrals are hard.\n",
    "When using a computer software to solve your integrals, you have two choices:\n",
    "\n",
    "1. You can try to compute a primitive function exactly, and then (if you are computing a definite integral) substitute the endpoints of your integration interval to get the result. We can call this *symbolic integration*.\n",
    "2. You can get an *approximated* result with a *numerical method*. This method always gives some kind of result, but it cannot be used to compute indefinite integrals.\n",
    "\n",
    "Sage can do both of these things, although people that work in numerical analysis and use often the second method tend to prefer other programs, such as Matlab (or its open-source clone Octave)."
   ]
  },
  {
   "cell_type": "markdown",
   "metadata": {},
   "source": [
    "### Symbolic integration\n",
    "\n",
    "Symbolic integrals work more or less like derivatives. You must specify an integration variable, but the endpoints of the integration interval are optional. If they are not given you get an indefinite integral."
   ]
  },
  {
   "cell_type": "code",
   "execution_count": 60,
   "metadata": {},
   "outputs": [
    {
     "name": "stdout",
     "output_type": "stream",
     "text": [
      "1/2*x^2 - cos(x)\n",
      "0\n",
      "-1/2*a^2 + 1/2*b^2 + cos(a) - cos(b)\n"
     ]
    }
   ],
   "source": [
    "var('a', 'b')\n",
    "f = x + sin(x)\n",
    "print( f.integral(x) ) # Alternative: integral(f, x)\n",
    "print( f.integral(x, -10, 10) )\n",
    "print( f.integral(x, a, b) )"
   ]
  },
  {
   "cell_type": "markdown",
   "metadata": {},
   "source": [
    "Your endpoints can also be $\\pm\\infty$:"
   ]
  },
  {
   "cell_type": "code",
   "execution_count": 61,
   "metadata": {},
   "outputs": [
    {
     "name": "stdout",
     "output_type": "stream",
     "text": [
      "1\n",
      "sqrt(pi)\n"
     ]
    }
   ],
   "source": [
    "print( integral(e^(-x),   x, 0,         infinity) )\n",
    "print( integral(e^(-x^2), x, -infinity, infinity) )"
   ]
  },
  {
   "cell_type": "markdown",
   "metadata": {},
   "source": [
    "The last function is also an example of an integral that perhaps you might want to compute numerically. In fact:"
   ]
  },
  {
   "cell_type": "code",
   "execution_count": 65,
   "metadata": {},
   "outputs": [
    {
     "name": "stdout",
     "output_type": "stream",
     "text": [
      "1/2*sqrt(pi)*erf(x)\n",
      "1/2*sqrt(pi)*erf(2) - 1/2*sqrt(pi)*erf(1)\n"
     ]
    }
   ],
   "source": [
    "print( integral(e^(-x^2), x) )\n",
    "print( integral(e^(-x^2), x, 1, 2) )"
   ]
  },
  {
   "cell_type": "markdown",
   "metadata": {},
   "source": [
    "Here `erf(x)` denotes the [error function](https://en.wikipedia.org/wiki/Error_function)."
   ]
  },
  {
   "cell_type": "markdown",
   "metadata": {},
   "source": [
    "### Numerical integration\n",
    "\n",
    "In order to get an explicit value for the computations above, we can use a *numerical* method.\n",
    "\n",
    "The word \"numerical\" does not have much to do with numbers, but it refers to the fact that we are trying to compute explicit results rather than symbolic or algebraic ones. [Numerical analysis](https://en.wikipedia.org/wiki/Numerical_analysis) is the branch of mathematics that studies methods to approximate computations over the real or complex numbers. With these methods there is usually a trade-off between speed and precision.\n",
    "\n",
    "The Sage function [`numerical_integral()`](https://doc.sagemath.org/html/en/reference/calculus/sage/calculus/integration.html#sage.calculus.integration.numerical_integral) takes as a parameter a real-valued one-variable function and the integration endpoints, and it returns both an approximate value for the integral and an error estimate."
   ]
  },
  {
   "cell_type": "code",
   "execution_count": 40,
   "metadata": {},
   "outputs": [
    {
     "data": {
      "text/plain": [
       "(0.13525725794999466, 1.5016572202374808e-15)"
      ]
     },
     "execution_count": 40,
     "metadata": {},
     "output_type": "execute_result"
    }
   ],
   "source": [
    "numerical_integral(e^(-x^2), 1, 2)"
   ]
  },
  {
   "cell_type": "markdown",
   "metadata": {},
   "source": [
    "The result above means, in symbols\n",
    "\\begin{align*}\n",
    "\\int_1^2 e^{-x^2}\\mathrm dx = 0.13525725794999466 \\pm 1.5016572202374808\\times 10^{-15}\n",
    "\\end{align*}\n",
    "\n",
    "There is also a [`monte_carlo_integral()`](https://doc.sagemath.org/html/en/reference/calculus/sage/calculus/integration.html#sage.calculus.integration.monte_carlo_integral) method for functions with more than one variable."
   ]
  },
  {
   "cell_type": "markdown",
   "metadata": {},
   "source": [
    "**Exercise.** Compute the area of the ellipse of equation $y^2+\\left(\\frac x3\\right)^2=1$."
   ]
  },
  {
   "cell_type": "markdown",
   "metadata": {},
   "source": [
    "## Differential equations\n",
    "**Reference:** [[13](https://doc.sagemath.org/html/en/reference/calculus/sage/calculus/desolvers.html)]\n",
    "\n",
    "A [differential equation](https://en.wikipedia.org/wiki/Differential_equation) is an equation involving an unknwon function and its derivatives. They can be of two kinds: *ordinary* differential equations ([ODE](https://en.wikipedia.org/wiki/Ordinary_differential_equation)) and *partial* differential equations ([PDE](https://en.wikipedia.org/wiki/Partial_differential_equation)). The latter involve multivariate functions and their partial derivatives.\n",
    "\n",
    "Differential equations are in general hard to solve *exactly* (or *symbolically*): even a simple equation of the form $f'(x)=g(x)$, where $g(x)$ is someknown function, requires solving the integral $\\int g(x)\\mathrm{d}x$ in order to find $f$, which as we know is not always easy!\n",
    "\n",
    "Theoretical results on differential equations usually ensure the existence and/or uniquess of a solution under certain conditions, but in general they do not give a way to solve them. There exits many methods to find approximate solutions, and some of them are implemented in Sage as well (see [[13](https://doc.sagemath.org/html/en/reference/calculus/sage/calculus/desolvers.html)]). However we will focus on the simple ODEs that can be solved exactly.\n",
    "\n",
    "Let's start with a simple example. Let's find all functions $f(x)$ such that $f'(x)=f(x)$. In order to do so, we need to use the `function()` construct, which allows us to define an \"unknwon\" function inside Sage, like we define variables with `var()`."
   ]
  },
  {
   "cell_type": "code",
   "execution_count": 4,
   "metadata": {},
   "outputs": [
    {
     "data": {
      "text/plain": [
       "_C*e^x"
      ]
     },
     "execution_count": 4,
     "metadata": {},
     "output_type": "execute_result"
    }
   ],
   "source": [
    "var('x')\n",
    "function('f')\n",
    "equation = derivative(f(x)) == f(x)\n",
    "desolve(equation, f(x)) # f is the unknown function"
   ]
  },
  {
   "cell_type": "markdown",
   "metadata": {},
   "source": [
    "As you can expect, they are all the functions $Ce^x$ for some constant $C$. The constant $C$ plays the same role as the constant in the solution of an integral, but in this case Sage writes it explicitly.\n",
    "\n",
    "We can also specify *initial conditions* for our function. For example we can impose that $f(0)=3$ as follows:"
   ]
  },
  {
   "cell_type": "code",
   "execution_count": 5,
   "metadata": {},
   "outputs": [
    {
     "data": {
      "text/plain": [
       "3*e^x"
      ]
     },
     "execution_count": 5,
     "metadata": {},
     "output_type": "execute_result"
    }
   ],
   "source": [
    "desolve(equation, f(x), (0,3))"
   ]
  },
  {
   "cell_type": "markdown",
   "metadata": {},
   "source": [
    "You can also solve *second order* equations, that is equations where the second derivative also appears. In this case if you want to specify an initial condition you should write the triple of values $(x_0, f(x_0), f'(x_0))$."
   ]
  },
  {
   "cell_type": "code",
   "execution_count": 6,
   "metadata": {},
   "outputs": [
    {
     "data": {
      "text/plain": [
       "-1/2*I*sqrt(2)*sqrt(pi)*integrate(erf(1/2*I*sqrt(2)*x)*e^(-1/2*x^2), x)"
      ]
     },
     "execution_count": 6,
     "metadata": {},
     "output_type": "execute_result"
    }
   ],
   "source": [
    "equation = derivative(f(x), x, 2) + x*derivative(f(x)) == 1\n",
    "desolve(equation, f(x), (0, 0, 0))"
   ]
  },
  {
   "cell_type": "markdown",
   "metadata": {},
   "source": [
    "**Exercise.** Use Sage to find out the functions $f(x)$ that satisfy\n",
    "\\begin{align*}\n",
    "    \\begin{array}{rlcrl}\n",
    "        (A) &\n",
    "        \\begin{cases}\n",
    "            f(0)   &= 1\\\\\n",
    "            f'(0)  &= 0\\\\\n",
    "            f''(x) &= -f(x)\n",
    "        \\end{cases}\n",
    "        & \\qquad \\qquad &\n",
    "        (B) &\n",
    "        \\begin{cases}\n",
    "            f(0)   &= 0\\\\\n",
    "            f'(0)  &= 1\\\\\n",
    "            f''(x) &= -f(x)\n",
    "        \\end{cases}\n",
    "    \\end{array}\n",
    "\\end{align*}"
   ]
  },
  {
   "cell_type": "code",
   "execution_count": null,
   "metadata": {},
   "outputs": [],
   "source": []
  },
  {
   "cell_type": "markdown",
   "metadata": {},
   "source": [
    "### A real-world example\n",
    "\n",
    "Differential equations have countless applications in Science, so it would be a shame not to see at least a simple one.\n",
    "\n",
    "Consider an object moving with constant acceleration $a$. Its velocity at time $t$ is described by the formula $v(t) = v(0) + at$. For example an object falling from the sky has acceleration $g\\sim 9.8 m/s^2$ towards the ground, so its velocity is $v(t) = -gt$.\n",
    "\n",
    "However in the real world you need to take into account the air's resistance, which depends (among other things) on the velocity of the object. In this case the acceleration $a(t)$ is not constant anymore, and it satisfies an equation of the form $a(t)=-g -kv(t)$, where $k$ is some constant that may depend on the shape and mass of the object (in practice it may be more complicated than this).\n",
    "\n",
    "Since the acceleration is the derivative of the velocity, we have a differential equation\n",
    "\\begin{align*}\n",
    "    v'(t) = -g -kv(t)\n",
    "\\end{align*}\n",
    "and we can try to solve it with Sage!"
   ]
  },
  {
   "cell_type": "code",
   "execution_count": 7,
   "metadata": {},
   "outputs": [
    {
     "data": {
      "text/plain": [
       "-98/15*(e^(3/2*t) - 1)*e^(-3/2*t)"
      ]
     },
     "execution_count": 7,
     "metadata": {},
     "output_type": "execute_result"
    }
   ],
   "source": [
    "var('t')\n",
    "function('v')\n",
    "g = 9.8\n",
    "k = 1.5\n",
    "conditions = (0, 0) # Start with velocity 0\n",
    "desolve(derivative(v(t)) == -g -k*v(t), v(t), conditions)"
   ]
  },
  {
   "cell_type": "markdown",
   "metadata": {},
   "source": [
    "If you want to solve this equation symbolically (that is, keeping $g$ and $k$ in symbols) you need to specify that $t$ is the *independent variable* of the equation:"
   ]
  },
  {
   "cell_type": "code",
   "execution_count": 10,
   "metadata": {},
   "outputs": [
    {
     "data": {
      "text/plain": [
       "-(g*e^(k*t) - g)*e^(-k*t)/k"
      ]
     },
     "execution_count": 10,
     "metadata": {},
     "output_type": "execute_result"
    }
   ],
   "source": [
    "var('t', 'g', 'k')\n",
    "function('v')\n",
    "conditions = (0, 0) # Start with velocity 0\n",
    "desolve(derivative(v(t)) == -g -k*v(t), v(t), conditions, ivar=t)"
   ]
  },
  {
   "cell_type": "markdown",
   "metadata": {},
   "source": [
    "# Basic data analysis and visualization\n",
    "\n",
    "## Statistics\n",
    "**References:** [[14](https://doc.sagemath.org/html/en/reference/stats/sage/stats/basic_stats.html)]\n",
    "\n",
    "Sage includes the most basic functions for statistical analysis."
   ]
  },
  {
   "cell_type": "code",
   "execution_count": 20,
   "metadata": {},
   "outputs": [
    {
     "name": "stdout",
     "output_type": "stream",
     "text": [
      "Values:\t [1, 2, 3, 3, -6, -2, 4, -1, 0, 2, 3, -4, 0]\n",
      "Mean:\t\t\t 5/13\n",
      "Median:\t\t\t 1\n",
      "Mode:\t\t\t [3]\n",
      "Standard deviation:\t 2*sqrt(29/13)\n",
      "Variance:\t\t 116/13\n",
      "Moving average (5): [3/5, 0, 2/5, -2/5, -1, 3/5, 8/5, 0, 1/5]\n"
     ]
    }
   ],
   "source": [
    "L = [1, 2, 3, 3, -6, -2, 4, -1, 0, 2, 3, -4, 0]\n",
    "\n",
    "print(\"Values:\\t\", L)\n",
    "\n",
    "print(\"Mean:\\t\\t\\t\",           mean(L))\n",
    "print(\"Median:\\t\\t\\t\",         median(L))\n",
    "print(\"Mode:\\t\\t\\t\",           mode(L))\n",
    "\n",
    "print(\"Standard deviation:\\t\", std(L))\n",
    "print(\"Variance:\\t\\t\",         variance(L))\n",
    "\n",
    "print(\"Moving average (5):\", moving_average(L,5))"
   ]
  },
  {
   "cell_type": "markdown",
   "metadata": {},
   "source": [
    "You can also compare your data to a probability distribution, see [this page](https://doc.sagemath.org/html/en/reference/probability/sage/probability/probability_distribution.html). If you need to do more advanced statistics you should consider using [R](https://www.r-project.org/); you can also use it inside Sage."
   ]
  },
  {
   "cell_type": "markdown",
   "metadata": {},
   "source": [
    "## Plotting\n",
    "**Reference:** [[15](https://doc.sagemath.org/html/en/reference/plotting/index.html)], more specifically the subsection [[16](https://doc.sagemath.org/html/en/reference/plotting/sage/plot/plot.html)].\n",
    "\n",
    "Some Sage objects can be plotted:"
   ]
  },
  {
   "cell_type": "code",
   "execution_count": 21,
   "metadata": {},
   "outputs": [
    {
     "data": {
      "image/png": "[encoded data removed]",
      "text/plain": [
       "Graphics object consisting of 1 graphics primitive"
      ]
     },
     "execution_count": 21,
     "metadata": {},
     "output_type": "execute_result"
    }
   ],
   "source": [
    "f = sin(x)\n",
    "plot(f)"
   ]
  },
  {
   "cell_type": "markdown",
   "metadata": {},
   "source": [
    "Sage's plotting functions are based on Python's [matplotlib](https://matplotlib.org/).\n",
    "\n",
    "You can give a number of options to adjust the aspect of your plot, see [here](https://doc.sagemath.org/html/en/reference/plotting/sage/plot/plot.html#sage.plot.plot.plot). Let's see some of them:"
   ]
  },
  {
   "cell_type": "code",
   "execution_count": 67,
   "metadata": {},
   "outputs": [
    {
     "data": {
      "image/png": "[encoded data removed]",
      "text/plain": [
       "Graphics object consisting of 1 graphics primitive"
      ]
     },
     "execution_count": 67,
     "metadata": {},
     "output_type": "execute_result"
    }
   ],
   "source": [
    "f = sin(x)\n",
    "plot(f,\n",
    "     -2*pi, 2*pi,                   # bounds for x\n",
    "     ymin  = -0.7, ymax = 0.7,      # bounds for y\n",
    "     color = \"red\",\n",
    "     title = \"The sin function\",\n",
    "    )"
   ]
  },
  {
   "cell_type": "markdown",
   "metadata": {},
   "source": [
    "Some of the options are not described precisely in Sage's documentation, but you can find them on [matplotlib's documentation](https://matplotlib.org/stable/contents.html). You can find many examples online for adjusting your plot as you like!"
   ]
  },
  {
   "cell_type": "markdown",
   "metadata": {},
   "source": [
    "If you need to plot more than one object at the time, you can sum two plots and show them together with `show()`:"
   ]
  },
  {
   "cell_type": "code",
   "execution_count": 36,
   "metadata": {},
   "outputs": [
    {
     "data": {
      "image/png": "[encoded data removed]",
      "text/plain": [
       "Graphics object consisting of 2 graphics primitives"
      ]
     },
     "metadata": {},
     "output_type": "display_data"
    }
   ],
   "source": [
    "cosine      = plot(cos(x), (x,-pi/2,pi/2), color=\"red\")\n",
    "exponential = plot(exp(x), (x,-2,0.5))\n",
    "\n",
    "show(cosine + exponential)"
   ]
  },
  {
   "cell_type": "markdown",
   "metadata": {},
   "source": [
    "Finally, there are other types of plots that you can use, like [scatter plots](https://doc.sagemath.org/html/en/reference/plotting/sage/plot/scatter_plot.html#sage.plot.scatter_plot.scatter_plot) and [bar charts](https://doc.sagemath.org/html/en/reference/plotting/sage/plot/bar_chart.html#sage.plot.bar_chart.bar_chart). You can also add [text](https://doc.sagemath.org/html/en/reference/plotting/sage/plot/text.html#sage.plot.text.text) to your plot:"
   ]
  },
  {
   "cell_type": "code",
   "execution_count": 53,
   "metadata": {},
   "outputs": [
    {
     "data": {
      "image/png": "[encoded data removed]",
      "text/plain": [
       "Graphics object consisting of 3 graphics primitives"
      ]
     },
     "metadata": {},
     "output_type": "display_data"
    }
   ],
   "source": [
    "b = bar_chart(range(1,10))\n",
    "s = scatter_plot([(1,5), (4,2), (8,8), (4,7)],\n",
    "                 marker = \"*\",       # symbol\n",
    "                 markersize = 100,\n",
    "                 edgecolor  = \"black\",\n",
    "                 facecolor  = \"red\"\n",
    "                )\n",
    "t = text(\"wow, such plot!\", (1, 8), color=\"black\", fontsize=20)\n",
    "show(b + s + t)"
   ]
  },
  {
   "cell_type": "markdown",
   "metadata": {},
   "source": [
    "## Interpolation\n",
    "**References:** [[17](https://doc.sagemath.org/html/en/reference/polynomial_rings/sage/rings/polynomial/polynomial_ring.html#sage.rings.polynomial.polynomial_ring.PolynomialRing_field.lagrange_polynomial)] and [[18](https://doc.sagemath.org/html/en/reference/calculus/sage/calculus/interpolation.html)].\n",
    "\n",
    "When you need to work with a discrete set of data, like measurements of real-world quantities, it can be useful to visualize a \"smoothed out\" version of this data, for example by plotting a function that approximates it.\n",
    "\n",
    "One way to do so is finding the lowest-degree polynomial that passes through all your points. This is called [Lagrange Polynomial](https://en.wikipedia.org/wiki/Lagrange_polynomial)."
   ]
  },
  {
   "cell_type": "code",
   "execution_count": 65,
   "metadata": {},
   "outputs": [
    {
     "data": {
      "image/png": "[encoded data removed]",
      "text/plain": [
       "Graphics object consisting of 3 graphics primitives"
      ]
     },
     "metadata": {},
     "output_type": "display_data"
    }
   ],
   "source": [
    "points = [ (0,1), (1,2), (1.5,0), (2,4), (3,5) ]\n",
    "polring.<x> = QQ[] # you need to specify a polynomial ring\n",
    "lp = polring.lagrange_polynomial(points)\n",
    "show(scatter_plot(points, facecolor=\"red\")\n",
    "     + plot(lp, 0, 3) # slightly different notation for polynomials\n",
    "     + text(lp, (1,8), color=\"black\")\n",
    "    )"
   ]
  },
  {
   "cell_type": "markdown",
   "metadata": {},
   "source": [
    "One can compute the Lagrange Polynomial over any base ring, and it has the advantage that it is a very \"nice\" function (continuous and differentiable as much as you like, with easily computable derivatives and primitives).\n",
    "\n",
    "However, it does not always give you good approximation of your data:"
   ]
  },
  {
   "cell_type": "code",
   "execution_count": 2,
   "metadata": {},
   "outputs": [
    {
     "data": {
      "image/png": "[encoded data removed]",
      "text/plain": [
       "Graphics object consisting of 2 graphics primitives"
      ]
     },
     "metadata": {},
     "output_type": "display_data"
    }
   ],
   "source": [
    "R = [x/10 for x in range(-10,10)]\n",
    "L = [1/(1+25*x^2) for x in R]\n",
    "points = [(R[i], L[i]) for i in range(len(L))]\n",
    "polring.<x> = RR[]\n",
    "lp = polring.lagrange_polynomial(points)\n",
    "\n",
    "show(plot(lp, -0.82, 0.72) + scatter_plot(points))"
   ]
  },
  {
   "cell_type": "markdown",
   "metadata": {},
   "source": [
    "This particular example is called [Runge's phenomenon](https://en.wikipedia.org/wiki/Runge%27s_phenomenon). For a better approximation you can use a [spline](https://en.wikipedia.org/wiki/Spline_(mathematics)), which is a *piecewise* polynomial function:"
   ]
  },
  {
   "cell_type": "code",
   "execution_count": 90,
   "metadata": {},
   "outputs": [
    {
     "data": {
      "image/png": "[encoded data removed]",
      "text/plain": [
       "Graphics object consisting of 2 graphics primitives"
      ]
     },
     "metadata": {},
     "output_type": "display_data"
    }
   ],
   "source": [
    "show(plot(spline(points), -1, 1) + scatter_plot(points))"
   ]
  },
  {
   "cell_type": "markdown",
   "metadata": {},
   "source": [
    "A detailed explanation of splines is a good topic for a course of numerical analysis. For this course it is enough that you know that they exist and they can be plotted."
   ]
  }
 ],
 "metadata": {
  "kernelspec": {
   "display_name": "SageMath 9.2",
   "language": "sage",
   "name": "sagemath"
  },
  "language_info": {
   "codemirror_mode": {
    "name": "ipython",
    "version": 3
   },
   "file_extension": ".py",
   "mimetype": "text/x-python",
   "name": "python",
   "nbconvert_exporter": "python",
   "pygments_lexer": "ipython3",
   "version": "3.8.5"
  }
 },
 "nbformat": 4,
 "nbformat_minor": 4
}
